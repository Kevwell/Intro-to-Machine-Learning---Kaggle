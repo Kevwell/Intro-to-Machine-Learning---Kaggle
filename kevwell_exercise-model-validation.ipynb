{
 "cells": [
  {
   "cell_type": "markdown",
   "id": "e745c1a8",
   "metadata": {
    "papermill": {
     "duration": 0.005996,
     "end_time": "2022-05-30T10:33:08.153043",
     "exception": false,
     "start_time": "2022-05-30T10:33:08.147047",
     "status": "completed"
    },
    "tags": []
   },
   "source": [
    "**This notebook is an exercise in the [Introduction to Machine Learning](https://www.kaggle.com/learn/intro-to-machine-learning) course.  You can reference the tutorial at [this link](https://www.kaggle.com/dansbecker/model-validation).**\n",
    "\n",
    "---\n"
   ]
  },
  {
   "cell_type": "markdown",
   "id": "b6f367d4",
   "metadata": {
    "papermill": {
     "duration": 0.004538,
     "end_time": "2022-05-30T10:33:08.164890",
     "exception": false,
     "start_time": "2022-05-30T10:33:08.160352",
     "status": "completed"
    },
    "tags": []
   },
   "source": [
    "## Recap\n",
    "You've built a model. In this exercise you will test how good your model is.\n",
    "\n",
    "Run the cell below to set up your coding environment where the previous exercise left off."
   ]
  },
  {
   "cell_type": "code",
   "execution_count": 1,
   "id": "c4b8f8d5",
   "metadata": {
    "execution": {
     "iopub.execute_input": "2022-05-30T10:33:08.176743Z",
     "iopub.status.busy": "2022-05-30T10:33:08.176238Z",
     "iopub.status.idle": "2022-05-30T10:33:09.668329Z",
     "shell.execute_reply": "2022-05-30T10:33:09.667175Z"
    },
    "papermill": {
     "duration": 1.502452,
     "end_time": "2022-05-30T10:33:09.672223",
     "exception": false,
     "start_time": "2022-05-30T10:33:08.169771",
     "status": "completed"
    },
    "tags": []
   },
   "outputs": [
    {
     "name": "stdout",
     "output_type": "stream",
     "text": [
      "First in-sample predictions: [208500. 181500. 223500. 140000. 250000.]\n",
      "Actual target values for those homes: [208500, 181500, 223500, 140000, 250000]\n",
      "Setup Complete\n"
     ]
    }
   ],
   "source": [
    "# Code you have previously used to load data\n",
    "import pandas as pd\n",
    "from sklearn.tree import DecisionTreeRegressor\n",
    "\n",
    "# Path of the file to read\n",
    "iowa_file_path = '../input/home-data-for-ml-course/train.csv'\n",
    "\n",
    "home_data = pd.read_csv(iowa_file_path)\n",
    "y = home_data.SalePrice\n",
    "feature_columns = ['LotArea', 'YearBuilt', '1stFlrSF', '2ndFlrSF', 'FullBath', 'BedroomAbvGr', 'TotRmsAbvGrd']\n",
    "X = home_data[feature_columns]\n",
    "\n",
    "# Specify Model\n",
    "iowa_model = DecisionTreeRegressor()\n",
    "# Fit Model\n",
    "iowa_model.fit(X, y)\n",
    "\n",
    "print(\"First in-sample predictions:\", iowa_model.predict(X.head()))\n",
    "print(\"Actual target values for those homes:\", y.head().tolist())\n",
    "\n",
    "# Set up code checking\n",
    "from learntools.core import binder\n",
    "binder.bind(globals())\n",
    "from learntools.machine_learning.ex4 import *\n",
    "print(\"Setup Complete\")"
   ]
  },
  {
   "cell_type": "markdown",
   "id": "5ee8c36c",
   "metadata": {
    "papermill": {
     "duration": 0.004617,
     "end_time": "2022-05-30T10:33:09.682748",
     "exception": false,
     "start_time": "2022-05-30T10:33:09.678131",
     "status": "completed"
    },
    "tags": []
   },
   "source": [
    "# Exercises\n",
    "\n",
    "## Step 1: Split Your Data\n",
    "Use the `train_test_split` function to split up your data.\n",
    "\n",
    "Give it the argument `random_state=1` so the `check` functions know what to expect when verifying your code.\n",
    "\n",
    "Recall, your features are loaded in the DataFrame **X** and your target is loaded in **y**.\n"
   ]
  },
  {
   "cell_type": "code",
   "execution_count": 2,
   "id": "2bb0fcc9",
   "metadata": {
    "execution": {
     "iopub.execute_input": "2022-05-30T10:33:09.694319Z",
     "iopub.status.busy": "2022-05-30T10:33:09.693661Z",
     "iopub.status.idle": "2022-05-30T10:33:09.708135Z",
     "shell.execute_reply": "2022-05-30T10:33:09.707220Z"
    },
    "papermill": {
     "duration": 0.0227,
     "end_time": "2022-05-30T10:33:09.710194",
     "exception": false,
     "start_time": "2022-05-30T10:33:09.687494",
     "status": "completed"
    },
    "tags": []
   },
   "outputs": [
    {
     "data": {
      "application/javascript": [
       "parent.postMessage({\"jupyterEvent\": \"custom.exercise_interaction\", \"data\": {\"outcomeType\": 1, \"valueTowardsCompletion\": 0.25, \"interactionType\": 1, \"questionType\": 2, \"questionId\": \"1_SplitData\", \"learnToolsVersion\": \"0.3.4\", \"failureMessage\": \"\", \"exceptionClass\": \"\", \"trace\": \"\"}}, \"*\")"
      ],
      "text/plain": [
       "<IPython.core.display.Javascript object>"
      ]
     },
     "metadata": {},
     "output_type": "display_data"
    },
    {
     "data": {
      "text/markdown": [
       "<span style=\"color:#33cc33\">Correct</span>"
      ],
      "text/plain": [
       "Correct"
      ]
     },
     "metadata": {},
     "output_type": "display_data"
    }
   ],
   "source": [
    "# Import the train_test_split function and uncomment\n",
    "# from _ import _\n",
    "from sklearn.model_selection import train_test_split\n",
    "# fill in and uncomment\n",
    "# train_X, val_X, train_y, val_y = ____\n",
    "train_X, val_X, train_y, val_y = train_test_split(X, y, random_state = 1)\n",
    "# Check your answer\n",
    "step_1.check()"
   ]
  },
  {
   "cell_type": "code",
   "execution_count": 3,
   "id": "c2f33a3f",
   "metadata": {
    "execution": {
     "iopub.execute_input": "2022-05-30T10:33:09.721967Z",
     "iopub.status.busy": "2022-05-30T10:33:09.721598Z",
     "iopub.status.idle": "2022-05-30T10:33:09.725555Z",
     "shell.execute_reply": "2022-05-30T10:33:09.724608Z"
    },
    "papermill": {
     "duration": 0.012201,
     "end_time": "2022-05-30T10:33:09.727521",
     "exception": false,
     "start_time": "2022-05-30T10:33:09.715320",
     "status": "completed"
    },
    "tags": []
   },
   "outputs": [],
   "source": [
    "# The lines below will show you a hint or the solution.\n",
    "# step_1.hint() \n",
    "# step_1.solution()\n"
   ]
  },
  {
   "cell_type": "markdown",
   "id": "8542cc7a",
   "metadata": {
    "papermill": {
     "duration": 0.005041,
     "end_time": "2022-05-30T10:33:09.738021",
     "exception": false,
     "start_time": "2022-05-30T10:33:09.732980",
     "status": "completed"
    },
    "tags": []
   },
   "source": [
    "## Step 2: Specify and Fit the Model\n",
    "\n",
    "Create a `DecisionTreeRegressor` model and fit it to the relevant data.\n",
    "Set `random_state` to 1 again when creating the model."
   ]
  },
  {
   "cell_type": "code",
   "execution_count": 4,
   "id": "3f0a75ef",
   "metadata": {
    "execution": {
     "iopub.execute_input": "2022-05-30T10:33:09.750462Z",
     "iopub.status.busy": "2022-05-30T10:33:09.749761Z",
     "iopub.status.idle": "2022-05-30T10:33:09.779731Z",
     "shell.execute_reply": "2022-05-30T10:33:09.778501Z"
    },
    "papermill": {
     "duration": 0.039012,
     "end_time": "2022-05-30T10:33:09.782248",
     "exception": false,
     "start_time": "2022-05-30T10:33:09.743236",
     "status": "completed"
    },
    "tags": []
   },
   "outputs": [
    {
     "name": "stdout",
     "output_type": "stream",
     "text": [
      "[186500. 184000. 130000.  92000. 164500. 220000. 335000. 144152. 215000.\n",
      " 262000.]\n",
      "[186500. 184000. 130000.  92000. 164500. 220000. 335000. 144152. 215000.\n",
      " 262000.]\n"
     ]
    },
    {
     "data": {
      "application/javascript": [
       "parent.postMessage({\"jupyterEvent\": \"custom.exercise_interaction\", \"data\": {\"outcomeType\": 1, \"valueTowardsCompletion\": 0.25, \"interactionType\": 1, \"questionType\": 2, \"questionId\": \"2_FitModelWithTrain\", \"learnToolsVersion\": \"0.3.4\", \"failureMessage\": \"\", \"exceptionClass\": \"\", \"trace\": \"\"}}, \"*\")"
      ],
      "text/plain": [
       "<IPython.core.display.Javascript object>"
      ]
     },
     "metadata": {},
     "output_type": "display_data"
    },
    {
     "data": {
      "text/markdown": [
       "<span style=\"color:#33cc33\">Correct</span>"
      ],
      "text/plain": [
       "Correct"
      ]
     },
     "metadata": {},
     "output_type": "display_data"
    }
   ],
   "source": [
    "# You imported DecisionTreeRegressor in your last exercise\n",
    "# and that code has been copied to the setup code above. So, no need to\n",
    "# import it again\n",
    "\n",
    "# Specify the model\n",
    "iowa_model = DecisionTreeRegressor(random_state = 1)\n",
    "\n",
    "# Fit iowa_model with the training data.\n",
    "iowa_model.fit(train_X, train_y)\n",
    "\n",
    "# Check your answer\n",
    "step_2.check()"
   ]
  },
  {
   "cell_type": "code",
   "execution_count": 5,
   "id": "fdc2e407",
   "metadata": {
    "execution": {
     "iopub.execute_input": "2022-05-30T10:33:09.796389Z",
     "iopub.status.busy": "2022-05-30T10:33:09.795993Z",
     "iopub.status.idle": "2022-05-30T10:33:09.800432Z",
     "shell.execute_reply": "2022-05-30T10:33:09.799393Z"
    },
    "papermill": {
     "duration": 0.014027,
     "end_time": "2022-05-30T10:33:09.802606",
     "exception": false,
     "start_time": "2022-05-30T10:33:09.788579",
     "status": "completed"
    },
    "tags": []
   },
   "outputs": [],
   "source": [
    "# step_2.hint()\n",
    "# step_2.solution()"
   ]
  },
  {
   "cell_type": "markdown",
   "id": "c4638ed7",
   "metadata": {
    "papermill": {
     "duration": 0.005449,
     "end_time": "2022-05-30T10:33:09.814122",
     "exception": false,
     "start_time": "2022-05-30T10:33:09.808673",
     "status": "completed"
    },
    "tags": []
   },
   "source": [
    "## Step 3: Make Predictions with Validation data\n"
   ]
  },
  {
   "cell_type": "code",
   "execution_count": 6,
   "id": "1de654bd",
   "metadata": {
    "execution": {
     "iopub.execute_input": "2022-05-30T10:33:09.828032Z",
     "iopub.status.busy": "2022-05-30T10:33:09.827249Z",
     "iopub.status.idle": "2022-05-30T10:33:09.839259Z",
     "shell.execute_reply": "2022-05-30T10:33:09.838108Z"
    },
    "papermill": {
     "duration": 0.021582,
     "end_time": "2022-05-30T10:33:09.841423",
     "exception": false,
     "start_time": "2022-05-30T10:33:09.819841",
     "status": "completed"
    },
    "tags": []
   },
   "outputs": [
    {
     "data": {
      "application/javascript": [
       "parent.postMessage({\"jupyterEvent\": \"custom.exercise_interaction\", \"data\": {\"outcomeType\": 1, \"valueTowardsCompletion\": 0.25, \"interactionType\": 1, \"questionType\": 2, \"questionId\": \"3_ValPreds\", \"learnToolsVersion\": \"0.3.4\", \"failureMessage\": \"\", \"exceptionClass\": \"\", \"trace\": \"\"}}, \"*\")"
      ],
      "text/plain": [
       "<IPython.core.display.Javascript object>"
      ]
     },
     "metadata": {},
     "output_type": "display_data"
    },
    {
     "data": {
      "text/markdown": [
       "<span style=\"color:#33cc33\">Correct</span>"
      ],
      "text/plain": [
       "Correct"
      ]
     },
     "metadata": {},
     "output_type": "display_data"
    }
   ],
   "source": [
    "# Predict with all validation observations\n",
    "val_predictions = iowa_model.predict(val_X)\n",
    "\n",
    "# Check your answer\n",
    "step_3.check()"
   ]
  },
  {
   "cell_type": "code",
   "execution_count": 7,
   "id": "62a59d99",
   "metadata": {
    "execution": {
     "iopub.execute_input": "2022-05-30T10:33:09.855254Z",
     "iopub.status.busy": "2022-05-30T10:33:09.854541Z",
     "iopub.status.idle": "2022-05-30T10:33:09.858597Z",
     "shell.execute_reply": "2022-05-30T10:33:09.857932Z"
    },
    "papermill": {
     "duration": 0.013318,
     "end_time": "2022-05-30T10:33:09.860588",
     "exception": false,
     "start_time": "2022-05-30T10:33:09.847270",
     "status": "completed"
    },
    "tags": []
   },
   "outputs": [],
   "source": [
    "# step_3.hint()\n",
    "# step_3.solution()"
   ]
  },
  {
   "cell_type": "markdown",
   "id": "dfbd35db",
   "metadata": {
    "papermill": {
     "duration": 0.006237,
     "end_time": "2022-05-30T10:33:09.872816",
     "exception": false,
     "start_time": "2022-05-30T10:33:09.866579",
     "status": "completed"
    },
    "tags": []
   },
   "source": [
    "Inspect your predictions and actual values from validation data."
   ]
  },
  {
   "cell_type": "code",
   "execution_count": 8,
   "id": "3fba293d",
   "metadata": {
    "execution": {
     "iopub.execute_input": "2022-05-30T10:33:09.886900Z",
     "iopub.status.busy": "2022-05-30T10:33:09.886192Z",
     "iopub.status.idle": "2022-05-30T10:33:09.893746Z",
     "shell.execute_reply": "2022-05-30T10:33:09.892545Z"
    },
    "papermill": {
     "duration": 0.017306,
     "end_time": "2022-05-30T10:33:09.896260",
     "exception": false,
     "start_time": "2022-05-30T10:33:09.878954",
     "status": "completed"
    },
    "tags": []
   },
   "outputs": [
    {
     "name": "stdout",
     "output_type": "stream",
     "text": [
      "[186500. 184000. 130000.  92000. 164500.]\n",
      "258     231500\n",
      "267     179500\n",
      "288     122000\n",
      "649      84500\n",
      "1233    142000\n",
      "Name: SalePrice, dtype: int64\n"
     ]
    }
   ],
   "source": [
    "# print the top few validation predictions\n",
    "print(val_predictions[:5])\n",
    "# print the top few actual prices from validation data\n",
    "print(val_y.head())"
   ]
  },
  {
   "cell_type": "markdown",
   "id": "00efd4b2",
   "metadata": {
    "papermill": {
     "duration": 0.006025,
     "end_time": "2022-05-30T10:33:09.908961",
     "exception": false,
     "start_time": "2022-05-30T10:33:09.902936",
     "status": "completed"
    },
    "tags": []
   },
   "source": [
    "What do you notice that is different from what you saw with in-sample predictions (which are printed after the top code cell in this page).\n",
    "\n",
    "Do you remember why validation predictions differ from in-sample (or training) predictions? This is an important idea from the last lesson.\n",
    "\n",
    "## Step 4: Calculate the Mean Absolute Error in Validation Data\n"
   ]
  },
  {
   "cell_type": "code",
   "execution_count": 9,
   "id": "d4deac8e",
   "metadata": {
    "execution": {
     "iopub.execute_input": "2022-05-30T10:33:09.923738Z",
     "iopub.status.busy": "2022-05-30T10:33:09.923021Z",
     "iopub.status.idle": "2022-05-30T10:33:09.932447Z",
     "shell.execute_reply": "2022-05-30T10:33:09.931709Z"
    },
    "papermill": {
     "duration": 0.019202,
     "end_time": "2022-05-30T10:33:09.934445",
     "exception": false,
     "start_time": "2022-05-30T10:33:09.915243",
     "status": "completed"
    },
    "tags": []
   },
   "outputs": [
    {
     "data": {
      "application/javascript": [
       "parent.postMessage({\"jupyterEvent\": \"custom.exercise_interaction\", \"data\": {\"outcomeType\": 1, \"valueTowardsCompletion\": 0.25, \"interactionType\": 1, \"questionType\": 1, \"questionId\": \"4_MAE\", \"learnToolsVersion\": \"0.3.4\", \"failureMessage\": \"\", \"exceptionClass\": \"\", \"trace\": \"\"}}, \"*\")"
      ],
      "text/plain": [
       "<IPython.core.display.Javascript object>"
      ]
     },
     "metadata": {},
     "output_type": "display_data"
    },
    {
     "data": {
      "text/markdown": [
       "<span style=\"color:#33cc33\">Correct</span>"
      ],
      "text/plain": [
       "Correct"
      ]
     },
     "metadata": {},
     "output_type": "display_data"
    }
   ],
   "source": [
    "from sklearn.metrics import mean_absolute_error\n",
    "val_mae = mean_absolute_error(val_y, val_predictions)\n",
    "\n",
    "# uncomment following line to see the validation_mae\n",
    "#print(val_mae)\n",
    "\n",
    "# Check your answer\n",
    "step_4.check()"
   ]
  },
  {
   "cell_type": "code",
   "execution_count": 10,
   "id": "8a3a46ec",
   "metadata": {
    "execution": {
     "iopub.execute_input": "2022-05-30T10:33:09.948696Z",
     "iopub.status.busy": "2022-05-30T10:33:09.947997Z",
     "iopub.status.idle": "2022-05-30T10:33:09.952092Z",
     "shell.execute_reply": "2022-05-30T10:33:09.951369Z"
    },
    "papermill": {
     "duration": 0.013468,
     "end_time": "2022-05-30T10:33:09.953971",
     "exception": false,
     "start_time": "2022-05-30T10:33:09.940503",
     "status": "completed"
    },
    "tags": []
   },
   "outputs": [],
   "source": [
    "# step_4.hint()\n",
    "# step_4.solution()"
   ]
  },
  {
   "cell_type": "markdown",
   "id": "13b6c07e",
   "metadata": {
    "papermill": {
     "duration": 0.005898,
     "end_time": "2022-05-30T10:33:09.965982",
     "exception": false,
     "start_time": "2022-05-30T10:33:09.960084",
     "status": "completed"
    },
    "tags": []
   },
   "source": [
    "Is that MAE good?  There isn't a general rule for what values are good that applies across applications. But you'll see how to use (and improve) this number in the next step.\n",
    "\n",
    "# Keep Going\n",
    "\n",
    "You are ready for **[Underfitting and Overfitting](https://www.kaggle.com/dansbecker/underfitting-and-overfitting).**\n"
   ]
  }
 ],
 "metadata": {
  "kernelspec": {
   "display_name": "Python 3",
   "language": "python",
   "name": "python3"
  },
  "language_info": {
   "codemirror_mode": {
    "name": "ipython",
    "version": 3
   },
   "file_extension": ".py",
   "mimetype": "text/x-python",
   "name": "python",
   "nbconvert_exporter": "python",
   "pygments_lexer": "ipython3",
   "version": "3.7.12"
  },
  "papermill": {
   "default_parameters": {},
   "duration": 12.836352,
   "end_time": "2022-05-30T10:33:10.692679",
   "environment_variables": {},
   "exception": null,
   "input_path": "__notebook__.ipynb",
   "output_path": "__notebook__.ipynb",
   "parameters": {},
   "start_time": "2022-05-30T10:32:57.856327",
   "version": "2.3.4"
  }
 },
 "nbformat": 4,
 "nbformat_minor": 5
}
