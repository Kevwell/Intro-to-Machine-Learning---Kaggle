{
 "cells": [
  {
   "cell_type": "markdown",
   "id": "070af24a",
   "metadata": {
    "papermill": {
     "duration": 0.00422,
     "end_time": "2022-05-30T10:59:15.219430",
     "exception": false,
     "start_time": "2022-05-30T10:59:15.215210",
     "status": "completed"
    },
    "tags": []
   },
   "source": [
    "**This notebook is an exercise in the [Introduction to Machine Learning](https://www.kaggle.com/learn/intro-to-machine-learning) course.  You can reference the tutorial at [this link](https://www.kaggle.com/dansbecker/underfitting-and-overfitting).**\n",
    "\n",
    "---\n"
   ]
  },
  {
   "cell_type": "markdown",
   "id": "c86381cc",
   "metadata": {
    "papermill": {
     "duration": 0.002786,
     "end_time": "2022-05-30T10:59:15.227980",
     "exception": false,
     "start_time": "2022-05-30T10:59:15.225194",
     "status": "completed"
    },
    "tags": []
   },
   "source": [
    "## Recap\n",
    "You've built your first model, and now it's time to optimize the size of the tree to make better predictions. Run this cell to set up your coding environment where the previous step left off."
   ]
  },
  {
   "cell_type": "code",
   "execution_count": 1,
   "id": "bb0740f1",
   "metadata": {
    "execution": {
     "iopub.execute_input": "2022-05-30T10:59:15.235981Z",
     "iopub.status.busy": "2022-05-30T10:59:15.235507Z",
     "iopub.status.idle": "2022-05-30T10:59:16.654131Z",
     "shell.execute_reply": "2022-05-30T10:59:16.653079Z"
    },
    "papermill": {
     "duration": 1.425512,
     "end_time": "2022-05-30T10:59:16.656632",
     "exception": false,
     "start_time": "2022-05-30T10:59:15.231120",
     "status": "completed"
    },
    "tags": []
   },
   "outputs": [
    {
     "name": "stdout",
     "output_type": "stream",
     "text": [
      "Validation MAE: 29,653\n",
      "\n",
      "Setup complete\n"
     ]
    }
   ],
   "source": [
    "# Code you have previously used to load data\n",
    "import pandas as pd\n",
    "from sklearn.metrics import mean_absolute_error\n",
    "from sklearn.model_selection import train_test_split\n",
    "from sklearn.tree import DecisionTreeRegressor\n",
    "\n",
    "\n",
    "# Path of the file to read\n",
    "iowa_file_path = '../input/home-data-for-ml-course/train.csv'\n",
    "\n",
    "home_data = pd.read_csv(iowa_file_path)\n",
    "# Create target object and call it y\n",
    "y = home_data.SalePrice\n",
    "# Create X\n",
    "features = ['LotArea', 'YearBuilt', '1stFlrSF', '2ndFlrSF', 'FullBath', 'BedroomAbvGr', 'TotRmsAbvGrd']\n",
    "X = home_data[features]\n",
    "\n",
    "# Split into validation and training data\n",
    "train_X, val_X, train_y, val_y = train_test_split(X, y, random_state=1)\n",
    "\n",
    "# Specify Model\n",
    "iowa_model = DecisionTreeRegressor(random_state=1)\n",
    "# Fit Model\n",
    "iowa_model.fit(train_X, train_y)\n",
    "\n",
    "# Make validation predictions and calculate mean absolute error\n",
    "val_predictions = iowa_model.predict(val_X)\n",
    "val_mae = mean_absolute_error(val_predictions, val_y)\n",
    "print(\"Validation MAE: {:,.0f}\".format(val_mae))\n",
    "\n",
    "# Set up code checking\n",
    "from learntools.core import binder\n",
    "binder.bind(globals())\n",
    "from learntools.machine_learning.ex5 import *\n",
    "print(\"\\nSetup complete\")"
   ]
  },
  {
   "cell_type": "markdown",
   "id": "6416999d",
   "metadata": {
    "papermill": {
     "duration": 0.002729,
     "end_time": "2022-05-30T10:59:16.662256",
     "exception": false,
     "start_time": "2022-05-30T10:59:16.659527",
     "status": "completed"
    },
    "tags": []
   },
   "source": [
    "# Exercises\n",
    "You could write the function `get_mae` yourself. For now, we'll supply it. This is the same function you read about in the previous lesson. Just run the cell below."
   ]
  },
  {
   "cell_type": "code",
   "execution_count": 2,
   "id": "de8270e8",
   "metadata": {
    "execution": {
     "iopub.execute_input": "2022-05-30T10:59:16.670106Z",
     "iopub.status.busy": "2022-05-30T10:59:16.669626Z",
     "iopub.status.idle": "2022-05-30T10:59:16.675446Z",
     "shell.execute_reply": "2022-05-30T10:59:16.674406Z"
    },
    "papermill": {
     "duration": 0.012049,
     "end_time": "2022-05-30T10:59:16.677438",
     "exception": false,
     "start_time": "2022-05-30T10:59:16.665389",
     "status": "completed"
    },
    "tags": []
   },
   "outputs": [],
   "source": [
    "def get_mae(max_leaf_nodes, train_X, val_X, train_y, val_y):\n",
    "    model = DecisionTreeRegressor(max_leaf_nodes=max_leaf_nodes, random_state=0)\n",
    "    model.fit(train_X, train_y)\n",
    "    preds_val = model.predict(val_X)\n",
    "    mae = mean_absolute_error(val_y, preds_val)\n",
    "    return(mae)"
   ]
  },
  {
   "cell_type": "markdown",
   "id": "fbec9580",
   "metadata": {
    "papermill": {
     "duration": 0.002681,
     "end_time": "2022-05-30T10:59:16.683195",
     "exception": false,
     "start_time": "2022-05-30T10:59:16.680514",
     "status": "completed"
    },
    "tags": []
   },
   "source": [
    "## Step 1: Compare Different Tree Sizes\n",
    "Write a loop that tries the following values for *max_leaf_nodes* from a set of possible values.\n",
    "\n",
    "Call the *get_mae* function on each value of max_leaf_nodes. Store the output in some way that allows you to select the value of `max_leaf_nodes` that gives the most accurate model on your data."
   ]
  },
  {
   "cell_type": "code",
   "execution_count": 3,
   "id": "fe892d2c",
   "metadata": {
    "execution": {
     "iopub.execute_input": "2022-05-30T10:59:16.691606Z",
     "iopub.status.busy": "2022-05-30T10:59:16.691015Z",
     "iopub.status.idle": "2022-05-30T10:59:16.772880Z",
     "shell.execute_reply": "2022-05-30T10:59:16.771915Z"
    },
    "papermill": {
     "duration": 0.088144,
     "end_time": "2022-05-30T10:59:16.774642",
     "exception": false,
     "start_time": "2022-05-30T10:59:16.686498",
     "status": "completed"
    },
    "tags": []
   },
   "outputs": [
    {
     "name": "stdout",
     "output_type": "stream",
     "text": [
      "Max leaf nodes: 500  \t\t Mean Absolute Error:  29454\n",
      "\n",
      " {5: 35044.51299744237, 25: 29016.41319191076, 50: 27405.930473214907, 100: 27282.50803885739, 250: 27893.822225701646, 500: 29454.18598068598}\n",
      "\n",
      " 100 27282.50803885739\n"
     ]
    },
    {
     "data": {
      "application/javascript": [
       "parent.postMessage({\"jupyterEvent\": \"custom.exercise_interaction\", \"data\": {\"outcomeType\": 1, \"valueTowardsCompletion\": 0.5, \"interactionType\": 1, \"questionType\": 1, \"questionId\": \"1_BestTreeSize\", \"learnToolsVersion\": \"0.3.4\", \"failureMessage\": \"\", \"exceptionClass\": \"\", \"trace\": \"\"}}, \"*\")"
      ],
      "text/plain": [
       "<IPython.core.display.Javascript object>"
      ]
     },
     "metadata": {},
     "output_type": "display_data"
    },
    {
     "data": {
      "text/markdown": [
       "<span style=\"color:#33cc33\">Correct</span>"
      ],
      "text/plain": [
       "Correct"
      ]
     },
     "metadata": {},
     "output_type": "display_data"
    }
   ],
   "source": [
    "candidate_max_leaf_nodes = [5, 25, 50, 100, 250, 500]\n",
    "# Write loop to find the ideal tree size from candidate_max_leaf_nodes\n",
    "for max_leaf_nodes in [5, 25, 50, 100, 250, 500]:\n",
    "    my_mae = get_mae(max_leaf_nodes, train_X, val_X, train_y, val_y)\n",
    "print(\"Max leaf nodes: %d  \\t\\t Mean Absolute Error:  %d\" %(max_leaf_nodes, my_mae))\n",
    "\n",
    "# Store the best value of max_leaf_nodes (it will be either 5, 25, 50, 100, 250 or 500)\n",
    "#best_tree_size = \n",
    "\n",
    "scores = {leaf_size: get_mae(leaf_size, train_X, val_X, train_y, val_y) for leaf_size in candidate_max_leaf_nodes}\n",
    "print(\"\\n\",scores)\n",
    "\n",
    "best_tree_size = min(scores, key=scores.get)\n",
    "\n",
    "print(\"\\n\", best_tree_size, scores[best_tree_size])\n",
    "\n",
    "\n",
    "# Check your answer\n",
    "step_1.check()"
   ]
  },
  {
   "cell_type": "code",
   "execution_count": 4,
   "id": "0f831725",
   "metadata": {
    "execution": {
     "iopub.execute_input": "2022-05-30T10:59:16.782391Z",
     "iopub.status.busy": "2022-05-30T10:59:16.781986Z",
     "iopub.status.idle": "2022-05-30T10:59:16.785991Z",
     "shell.execute_reply": "2022-05-30T10:59:16.785052Z"
    },
    "papermill": {
     "duration": 0.010138,
     "end_time": "2022-05-30T10:59:16.787905",
     "exception": false,
     "start_time": "2022-05-30T10:59:16.777767",
     "status": "completed"
    },
    "tags": []
   },
   "outputs": [],
   "source": [
    "# The lines below will show you a hint or the solution.\n",
    "# step_1.hint() \n",
    "# step_1.solution()"
   ]
  },
  {
   "cell_type": "markdown",
   "id": "13e5ae9f",
   "metadata": {
    "papermill": {
     "duration": 0.003123,
     "end_time": "2022-05-30T10:59:16.794373",
     "exception": false,
     "start_time": "2022-05-30T10:59:16.791250",
     "status": "completed"
    },
    "tags": []
   },
   "source": [
    "## Step 2: Fit Model Using All Data\n",
    "You know the best tree size. If you were going to deploy this model in practice, you would make it even more accurate by using all of the data and keeping that tree size.  That is, you don't need to hold out the validation data now that you've made all your modeling decisions."
   ]
  },
  {
   "cell_type": "code",
   "execution_count": 5,
   "id": "0f0fbf60",
   "metadata": {
    "execution": {
     "iopub.execute_input": "2022-05-30T10:59:16.802705Z",
     "iopub.status.busy": "2022-05-30T10:59:16.802308Z",
     "iopub.status.idle": "2022-05-30T10:59:16.818110Z",
     "shell.execute_reply": "2022-05-30T10:59:16.817153Z"
    },
    "papermill": {
     "duration": 0.022369,
     "end_time": "2022-05-30T10:59:16.820067",
     "exception": false,
     "start_time": "2022-05-30T10:59:16.797698",
     "status": "completed"
    },
    "tags": []
   },
   "outputs": [
    {
     "data": {
      "application/javascript": [
       "parent.postMessage({\"jupyterEvent\": \"custom.exercise_interaction\", \"data\": {\"outcomeType\": 1, \"valueTowardsCompletion\": 0.5, \"interactionType\": 1, \"questionType\": 2, \"questionId\": \"2_FitModelWithAllData\", \"learnToolsVersion\": \"0.3.4\", \"failureMessage\": \"\", \"exceptionClass\": \"\", \"trace\": \"\"}}, \"*\")"
      ],
      "text/plain": [
       "<IPython.core.display.Javascript object>"
      ]
     },
     "metadata": {},
     "output_type": "display_data"
    },
    {
     "data": {
      "text/markdown": [
       "<span style=\"color:#33cc33\">Correct</span>"
      ],
      "text/plain": [
       "Correct"
      ]
     },
     "metadata": {},
     "output_type": "display_data"
    }
   ],
   "source": [
    "# Fill in argument to make optimal size and uncomment\n",
    "# final_model = DecisionTreeRegressor(____)\n",
    "final_model = DecisionTreeRegressor(max_leaf_nodes=best_tree_size, random_state=0)\n",
    "# fit the final model and uncomment the next two lines\n",
    "# final_model.fit(____, ____)\n",
    "final_model.fit(X, y)\n",
    "# Check your answer\n",
    "step_2.check()"
   ]
  },
  {
   "cell_type": "code",
   "execution_count": 6,
   "id": "875108bb",
   "metadata": {
    "execution": {
     "iopub.execute_input": "2022-05-30T10:59:16.828470Z",
     "iopub.status.busy": "2022-05-30T10:59:16.828077Z",
     "iopub.status.idle": "2022-05-30T10:59:16.831960Z",
     "shell.execute_reply": "2022-05-30T10:59:16.831060Z"
    },
    "papermill": {
     "duration": 0.010411,
     "end_time": "2022-05-30T10:59:16.833880",
     "exception": false,
     "start_time": "2022-05-30T10:59:16.823469",
     "status": "completed"
    },
    "tags": []
   },
   "outputs": [],
   "source": [
    "# step_2.hint()\n",
    "# step_2.solution()"
   ]
  },
  {
   "cell_type": "markdown",
   "id": "8f2c060a",
   "metadata": {
    "papermill": {
     "duration": 0.003215,
     "end_time": "2022-05-30T10:59:16.840766",
     "exception": false,
     "start_time": "2022-05-30T10:59:16.837551",
     "status": "completed"
    },
    "tags": []
   },
   "source": [
    "You've tuned this model and improved your results. But we are still using Decision Tree models, which are not very sophisticated by modern machine learning standards. In the next step you will learn to use Random Forests to improve your models even more.\n",
    "\n",
    "# Keep Going\n",
    "\n",
    "You are ready for **[Random Forests](https://www.kaggle.com/dansbecker/random-forests).**\n"
   ]
  }
 ],
 "metadata": {
  "kernelspec": {
   "display_name": "Python 3",
   "language": "python",
   "name": "python3"
  },
  "language_info": {
   "codemirror_mode": {
    "name": "ipython",
    "version": 3
   },
   "file_extension": ".py",
   "mimetype": "text/x-python",
   "name": "python",
   "nbconvert_exporter": "python",
   "pygments_lexer": "ipython3",
   "version": "3.7.12"
  },
  "papermill": {
   "default_parameters": {},
   "duration": 11.205407,
   "end_time": "2022-05-30T10:59:17.566175",
   "environment_variables": {},
   "exception": null,
   "input_path": "__notebook__.ipynb",
   "output_path": "__notebook__.ipynb",
   "parameters": {},
   "start_time": "2022-05-30T10:59:06.360768",
   "version": "2.3.4"
  }
 },
 "nbformat": 4,
 "nbformat_minor": 5
}
