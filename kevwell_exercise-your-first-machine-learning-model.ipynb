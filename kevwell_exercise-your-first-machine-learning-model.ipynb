{
 "cells": [
  {
   "cell_type": "markdown",
   "id": "aabe0122",
   "metadata": {
    "papermill": {
     "duration": 0.007122,
     "end_time": "2022-05-30T10:17:57.485984",
     "exception": false,
     "start_time": "2022-05-30T10:17:57.478862",
     "status": "completed"
    },
    "tags": []
   },
   "source": [
    "**This notebook is an exercise in the [Introduction to Machine Learning](https://www.kaggle.com/learn/intro-to-machine-learning) course.  You can reference the tutorial at [this link](https://www.kaggle.com/dansbecker/your-first-machine-learning-model).**\n",
    "\n",
    "---\n"
   ]
  },
  {
   "cell_type": "markdown",
   "id": "74fd4d7e",
   "metadata": {
    "papermill": {
     "duration": 0.003556,
     "end_time": "2022-05-30T10:17:57.493545",
     "exception": false,
     "start_time": "2022-05-30T10:17:57.489989",
     "status": "completed"
    },
    "tags": []
   },
   "source": [
    "## Recap\n",
    "So far, you have loaded your data and reviewed it with the following code. Run this cell to set up your coding environment where the previous step left off."
   ]
  },
  {
   "cell_type": "code",
   "execution_count": 1,
   "id": "37700fb0",
   "metadata": {
    "execution": {
     "iopub.execute_input": "2022-05-30T10:17:57.503068Z",
     "iopub.status.busy": "2022-05-30T10:17:57.502485Z",
     "iopub.status.idle": "2022-05-30T10:17:58.794530Z",
     "shell.execute_reply": "2022-05-30T10:17:58.793539Z"
    },
    "papermill": {
     "duration": 1.300543,
     "end_time": "2022-05-30T10:17:58.797900",
     "exception": false,
     "start_time": "2022-05-30T10:17:57.497357",
     "status": "completed"
    },
    "tags": []
   },
   "outputs": [
    {
     "name": "stdout",
     "output_type": "stream",
     "text": [
      "Setup Complete\n"
     ]
    }
   ],
   "source": [
    "# Code you have previously used to load data\n",
    "import pandas as pd\n",
    "\n",
    "# Path of the file to read\n",
    "iowa_file_path = '../input/home-data-for-ml-course/train.csv'\n",
    "\n",
    "home_data = pd.read_csv(iowa_file_path)\n",
    "\n",
    "# Set up code checking\n",
    "from learntools.core import binder\n",
    "binder.bind(globals())\n",
    "from learntools.machine_learning.ex3 import *\n",
    "\n",
    "print(\"Setup Complete\")"
   ]
  },
  {
   "cell_type": "markdown",
   "id": "a7807abe",
   "metadata": {
    "papermill": {
     "duration": 0.003894,
     "end_time": "2022-05-30T10:17:58.807104",
     "exception": false,
     "start_time": "2022-05-30T10:17:58.803210",
     "status": "completed"
    },
    "tags": []
   },
   "source": [
    "# Exercises\n",
    "\n",
    "## Step 1: Specify Prediction Target\n",
    "Select the target variable, which corresponds to the sales price. Save this to a new variable called `y`. You'll need to print a list of the columns to find the name of the column you need.\n"
   ]
  },
  {
   "cell_type": "code",
   "execution_count": 2,
   "id": "4724fa37",
   "metadata": {
    "execution": {
     "iopub.execute_input": "2022-05-30T10:17:58.816629Z",
     "iopub.status.busy": "2022-05-30T10:17:58.816230Z",
     "iopub.status.idle": "2022-05-30T10:17:58.823949Z",
     "shell.execute_reply": "2022-05-30T10:17:58.822877Z"
    },
    "papermill": {
     "duration": 0.014514,
     "end_time": "2022-05-30T10:17:58.825656",
     "exception": false,
     "start_time": "2022-05-30T10:17:58.811142",
     "status": "completed"
    },
    "tags": []
   },
   "outputs": [
    {
     "data": {
      "text/plain": [
       "Index(['Id', 'MSSubClass', 'MSZoning', 'LotFrontage', 'LotArea', 'Street',\n",
       "       'Alley', 'LotShape', 'LandContour', 'Utilities', 'LotConfig',\n",
       "       'LandSlope', 'Neighborhood', 'Condition1', 'Condition2', 'BldgType',\n",
       "       'HouseStyle', 'OverallQual', 'OverallCond', 'YearBuilt', 'YearRemodAdd',\n",
       "       'RoofStyle', 'RoofMatl', 'Exterior1st', 'Exterior2nd', 'MasVnrType',\n",
       "       'MasVnrArea', 'ExterQual', 'ExterCond', 'Foundation', 'BsmtQual',\n",
       "       'BsmtCond', 'BsmtExposure', 'BsmtFinType1', 'BsmtFinSF1',\n",
       "       'BsmtFinType2', 'BsmtFinSF2', 'BsmtUnfSF', 'TotalBsmtSF', 'Heating',\n",
       "       'HeatingQC', 'CentralAir', 'Electrical', '1stFlrSF', '2ndFlrSF',\n",
       "       'LowQualFinSF', 'GrLivArea', 'BsmtFullBath', 'BsmtHalfBath', 'FullBath',\n",
       "       'HalfBath', 'BedroomAbvGr', 'KitchenAbvGr', 'KitchenQual',\n",
       "       'TotRmsAbvGrd', 'Functional', 'Fireplaces', 'FireplaceQu', 'GarageType',\n",
       "       'GarageYrBlt', 'GarageFinish', 'GarageCars', 'GarageArea', 'GarageQual',\n",
       "       'GarageCond', 'PavedDrive', 'WoodDeckSF', 'OpenPorchSF',\n",
       "       'EnclosedPorch', '3SsnPorch', 'ScreenPorch', 'PoolArea', 'PoolQC',\n",
       "       'Fence', 'MiscFeature', 'MiscVal', 'MoSold', 'YrSold', 'SaleType',\n",
       "       'SaleCondition', 'SalePrice'],\n",
       "      dtype='object')"
      ]
     },
     "execution_count": 2,
     "metadata": {},
     "output_type": "execute_result"
    }
   ],
   "source": [
    "# print the list of columns in the dataset to find the name of the prediction target\n",
    "home_data.columns"
   ]
  },
  {
   "cell_type": "code",
   "execution_count": 3,
   "id": "f81c29ec",
   "metadata": {
    "execution": {
     "iopub.execute_input": "2022-05-30T10:17:58.835645Z",
     "iopub.status.busy": "2022-05-30T10:17:58.835081Z",
     "iopub.status.idle": "2022-05-30T10:17:58.847145Z",
     "shell.execute_reply": "2022-05-30T10:17:58.846455Z"
    },
    "papermill": {
     "duration": 0.018898,
     "end_time": "2022-05-30T10:17:58.848788",
     "exception": false,
     "start_time": "2022-05-30T10:17:58.829890",
     "status": "completed"
    },
    "tags": []
   },
   "outputs": [
    {
     "data": {
      "application/javascript": [
       "parent.postMessage({\"jupyterEvent\": \"custom.exercise_interaction\", \"data\": {\"outcomeType\": 1, \"valueTowardsCompletion\": 0.25, \"interactionType\": 1, \"questionType\": 2, \"questionId\": \"1_SetTarget\", \"learnToolsVersion\": \"0.3.4\", \"failureMessage\": \"\", \"exceptionClass\": \"\", \"trace\": \"\"}}, \"*\")"
      ],
      "text/plain": [
       "<IPython.core.display.Javascript object>"
      ]
     },
     "metadata": {},
     "output_type": "display_data"
    },
    {
     "data": {
      "text/markdown": [
       "<span style=\"color:#33cc33\">Correct</span>"
      ],
      "text/plain": [
       "Correct"
      ]
     },
     "metadata": {},
     "output_type": "display_data"
    }
   ],
   "source": [
    "y = home_data.SalePrice\n",
    "\n",
    "# Check your answer\n",
    "step_1.check()"
   ]
  },
  {
   "cell_type": "code",
   "execution_count": 4,
   "id": "979e3e80",
   "metadata": {
    "execution": {
     "iopub.execute_input": "2022-05-30T10:17:58.858819Z",
     "iopub.status.busy": "2022-05-30T10:17:58.858476Z",
     "iopub.status.idle": "2022-05-30T10:17:58.861920Z",
     "shell.execute_reply": "2022-05-30T10:17:58.861192Z"
    },
    "papermill": {
     "duration": 0.01052,
     "end_time": "2022-05-30T10:17:58.863658",
     "exception": false,
     "start_time": "2022-05-30T10:17:58.853138",
     "status": "completed"
    },
    "tags": []
   },
   "outputs": [],
   "source": [
    "# The lines below will show you a hint or the solution.\n",
    "# step_1.hint() \n",
    "# step_1.solution()"
   ]
  },
  {
   "cell_type": "markdown",
   "id": "50e485f2",
   "metadata": {
    "papermill": {
     "duration": 0.004168,
     "end_time": "2022-05-30T10:17:58.872342",
     "exception": false,
     "start_time": "2022-05-30T10:17:58.868174",
     "status": "completed"
    },
    "tags": []
   },
   "source": [
    "## Step 2: Create X\n",
    "Now you will create a DataFrame called `X` holding the predictive features.\n",
    "\n",
    "Since you want only some columns from the original data, you'll first create a list with the names of the columns you want in `X`.\n",
    "\n",
    "You'll use just the following columns in the list (you can copy and paste the whole list to save some typing, though you'll still need to add quotes):\n",
    "    * LotArea\n",
    "    * YearBuilt\n",
    "    * 1stFlrSF\n",
    "    * 2ndFlrSF\n",
    "    * FullBath\n",
    "    * BedroomAbvGr\n",
    "    * TotRmsAbvGrd\n",
    "\n",
    "After you've created that list of features, use it to create the DataFrame that you'll use to fit the model."
   ]
  },
  {
   "cell_type": "code",
   "execution_count": 5,
   "id": "5899425e",
   "metadata": {
    "execution": {
     "iopub.execute_input": "2022-05-30T10:17:58.882554Z",
     "iopub.status.busy": "2022-05-30T10:17:58.882164Z",
     "iopub.status.idle": "2022-05-30T10:17:58.894957Z",
     "shell.execute_reply": "2022-05-30T10:17:58.894046Z"
    },
    "papermill": {
     "duration": 0.020009,
     "end_time": "2022-05-30T10:17:58.896652",
     "exception": false,
     "start_time": "2022-05-30T10:17:58.876643",
     "status": "completed"
    },
    "tags": []
   },
   "outputs": [
    {
     "data": {
      "application/javascript": [
       "parent.postMessage({\"jupyterEvent\": \"custom.exercise_interaction\", \"data\": {\"outcomeType\": 1, \"valueTowardsCompletion\": 0.25, \"interactionType\": 1, \"questionType\": 2, \"questionId\": \"2_SelectPredictionData\", \"learnToolsVersion\": \"0.3.4\", \"failureMessage\": \"\", \"exceptionClass\": \"\", \"trace\": \"\"}}, \"*\")"
      ],
      "text/plain": [
       "<IPython.core.display.Javascript object>"
      ]
     },
     "metadata": {},
     "output_type": "display_data"
    },
    {
     "data": {
      "text/markdown": [
       "<span style=\"color:#33cc33\">Correct</span>"
      ],
      "text/plain": [
       "Correct"
      ]
     },
     "metadata": {},
     "output_type": "display_data"
    }
   ],
   "source": [
    "# Create the list of features below\n",
    "feature_names = ['LotArea', 'YearBuilt', '1stFlrSF', '2ndFlrSF', 'FullBath', 'BedroomAbvGr', 'TotRmsAbvGrd']\n",
    "\n",
    "# Select data corresponding to features in feature_names\n",
    "X = home_data[feature_names]\n",
    "\n",
    "# Check your answer\n",
    "step_2.check()"
   ]
  },
  {
   "cell_type": "code",
   "execution_count": 6,
   "id": "84cd754f",
   "metadata": {
    "execution": {
     "iopub.execute_input": "2022-05-30T10:17:58.907644Z",
     "iopub.status.busy": "2022-05-30T10:17:58.906944Z",
     "iopub.status.idle": "2022-05-30T10:17:58.910975Z",
     "shell.execute_reply": "2022-05-30T10:17:58.910304Z"
    },
    "papermill": {
     "duration": 0.011392,
     "end_time": "2022-05-30T10:17:58.912627",
     "exception": false,
     "start_time": "2022-05-30T10:17:58.901235",
     "status": "completed"
    },
    "tags": []
   },
   "outputs": [],
   "source": [
    "# step_2.hint()\n",
    "# step_2.solution()"
   ]
  },
  {
   "cell_type": "markdown",
   "id": "2c18e7b5",
   "metadata": {
    "papermill": {
     "duration": 0.004238,
     "end_time": "2022-05-30T10:17:58.921452",
     "exception": false,
     "start_time": "2022-05-30T10:17:58.917214",
     "status": "completed"
    },
    "tags": []
   },
   "source": [
    "## Review Data\n",
    "Before building a model, take a quick look at **X** to verify it looks sensible"
   ]
  },
  {
   "cell_type": "code",
   "execution_count": 7,
   "id": "8737dd9e",
   "metadata": {
    "execution": {
     "iopub.execute_input": "2022-05-30T10:17:58.931935Z",
     "iopub.status.busy": "2022-05-30T10:17:58.931315Z",
     "iopub.status.idle": "2022-05-30T10:17:58.966474Z",
     "shell.execute_reply": "2022-05-30T10:17:58.965321Z"
    },
    "papermill": {
     "duration": 0.042679,
     "end_time": "2022-05-30T10:17:58.968533",
     "exception": false,
     "start_time": "2022-05-30T10:17:58.925854",
     "status": "completed"
    },
    "tags": []
   },
   "outputs": [
    {
     "data": {
      "text/html": [
       "<div>\n",
       "<style scoped>\n",
       "    .dataframe tbody tr th:only-of-type {\n",
       "        vertical-align: middle;\n",
       "    }\n",
       "\n",
       "    .dataframe tbody tr th {\n",
       "        vertical-align: top;\n",
       "    }\n",
       "\n",
       "    .dataframe thead th {\n",
       "        text-align: right;\n",
       "    }\n",
       "</style>\n",
       "<table border=\"1\" class=\"dataframe\">\n",
       "  <thead>\n",
       "    <tr style=\"text-align: right;\">\n",
       "      <th></th>\n",
       "      <th>LotArea</th>\n",
       "      <th>YearBuilt</th>\n",
       "      <th>1stFlrSF</th>\n",
       "      <th>2ndFlrSF</th>\n",
       "      <th>FullBath</th>\n",
       "      <th>BedroomAbvGr</th>\n",
       "      <th>TotRmsAbvGrd</th>\n",
       "    </tr>\n",
       "  </thead>\n",
       "  <tbody>\n",
       "    <tr>\n",
       "      <th>0</th>\n",
       "      <td>8450</td>\n",
       "      <td>2003</td>\n",
       "      <td>856</td>\n",
       "      <td>854</td>\n",
       "      <td>2</td>\n",
       "      <td>3</td>\n",
       "      <td>8</td>\n",
       "    </tr>\n",
       "    <tr>\n",
       "      <th>1</th>\n",
       "      <td>9600</td>\n",
       "      <td>1976</td>\n",
       "      <td>1262</td>\n",
       "      <td>0</td>\n",
       "      <td>2</td>\n",
       "      <td>3</td>\n",
       "      <td>6</td>\n",
       "    </tr>\n",
       "    <tr>\n",
       "      <th>2</th>\n",
       "      <td>11250</td>\n",
       "      <td>2001</td>\n",
       "      <td>920</td>\n",
       "      <td>866</td>\n",
       "      <td>2</td>\n",
       "      <td>3</td>\n",
       "      <td>6</td>\n",
       "    </tr>\n",
       "    <tr>\n",
       "      <th>3</th>\n",
       "      <td>9550</td>\n",
       "      <td>1915</td>\n",
       "      <td>961</td>\n",
       "      <td>756</td>\n",
       "      <td>1</td>\n",
       "      <td>3</td>\n",
       "      <td>7</td>\n",
       "    </tr>\n",
       "    <tr>\n",
       "      <th>4</th>\n",
       "      <td>14260</td>\n",
       "      <td>2000</td>\n",
       "      <td>1145</td>\n",
       "      <td>1053</td>\n",
       "      <td>2</td>\n",
       "      <td>4</td>\n",
       "      <td>9</td>\n",
       "    </tr>\n",
       "  </tbody>\n",
       "</table>\n",
       "</div>"
      ],
      "text/plain": [
       "   LotArea  YearBuilt  1stFlrSF  2ndFlrSF  FullBath  BedroomAbvGr  \\\n",
       "0     8450       2003       856       854         2             3   \n",
       "1     9600       1976      1262         0         2             3   \n",
       "2    11250       2001       920       866         2             3   \n",
       "3     9550       1915       961       756         1             3   \n",
       "4    14260       2000      1145      1053         2             4   \n",
       "\n",
       "   TotRmsAbvGrd  \n",
       "0             8  \n",
       "1             6  \n",
       "2             6  \n",
       "3             7  \n",
       "4             9  "
      ]
     },
     "execution_count": 7,
     "metadata": {},
     "output_type": "execute_result"
    }
   ],
   "source": [
    "# Review data\n",
    "# print description or statistics from X\n",
    "#print(_)\n",
    "X.describe()\n",
    "# print the top few lines\n",
    "#print(_)\n",
    "X.head()"
   ]
  },
  {
   "cell_type": "markdown",
   "id": "ec591280",
   "metadata": {
    "papermill": {
     "duration": 0.004407,
     "end_time": "2022-05-30T10:17:58.977710",
     "exception": false,
     "start_time": "2022-05-30T10:17:58.973303",
     "status": "completed"
    },
    "tags": []
   },
   "source": [
    "## Step 3: Specify and Fit Model\n",
    "Create a `DecisionTreeRegressor` and save it iowa_model. Ensure you've done the relevant import from sklearn to run this command.\n",
    "\n",
    "Then fit the model you just created using the data in `X` and `y` that you saved above."
   ]
  },
  {
   "cell_type": "code",
   "execution_count": 8,
   "id": "e2a30dd4",
   "metadata": {
    "execution": {
     "iopub.execute_input": "2022-05-30T10:17:58.988051Z",
     "iopub.status.busy": "2022-05-30T10:17:58.987675Z",
     "iopub.status.idle": "2022-05-30T10:17:59.005380Z",
     "shell.execute_reply": "2022-05-30T10:17:59.004460Z"
    },
    "papermill": {
     "duration": 0.025108,
     "end_time": "2022-05-30T10:17:59.007301",
     "exception": false,
     "start_time": "2022-05-30T10:17:58.982193",
     "status": "completed"
    },
    "tags": []
   },
   "outputs": [
    {
     "data": {
      "application/javascript": [
       "parent.postMessage({\"jupyterEvent\": \"custom.exercise_interaction\", \"data\": {\"outcomeType\": 1, \"valueTowardsCompletion\": 0.25, \"interactionType\": 1, \"questionType\": 2, \"questionId\": \"3_CreateModel\", \"learnToolsVersion\": \"0.3.4\", \"failureMessage\": \"\", \"exceptionClass\": \"\", \"trace\": \"\"}}, \"*\")"
      ],
      "text/plain": [
       "<IPython.core.display.Javascript object>"
      ]
     },
     "metadata": {},
     "output_type": "display_data"
    },
    {
     "data": {
      "text/markdown": [
       "<span style=\"color:#33cc33\">Correct</span>"
      ],
      "text/plain": [
       "Correct"
      ]
     },
     "metadata": {},
     "output_type": "display_data"
    }
   ],
   "source": [
    "# from _ import _\n",
    "#specify the model. \n",
    "#For model reproducibility, set a numeric value for random_state when specifying the model\n",
    "\n",
    "from sklearn.tree import DecisionTreeRegressor\n",
    "\n",
    "iowa_model = DecisionTreeRegressor(random_state=1)\n",
    "\n",
    "# Fit the model\n",
    "iowa_model.fit(X, y)\n",
    "\n",
    "# Check your answer\n",
    "step_3.check()"
   ]
  },
  {
   "cell_type": "code",
   "execution_count": 9,
   "id": "338a49d2",
   "metadata": {
    "execution": {
     "iopub.execute_input": "2022-05-30T10:17:59.018459Z",
     "iopub.status.busy": "2022-05-30T10:17:59.018088Z",
     "iopub.status.idle": "2022-05-30T10:17:59.021391Z",
     "shell.execute_reply": "2022-05-30T10:17:59.020843Z"
    },
    "papermill": {
     "duration": 0.010736,
     "end_time": "2022-05-30T10:17:59.022911",
     "exception": false,
     "start_time": "2022-05-30T10:17:59.012175",
     "status": "completed"
    },
    "tags": []
   },
   "outputs": [],
   "source": [
    "# step_3.hint()\n",
    "# step_3.solution()"
   ]
  },
  {
   "cell_type": "markdown",
   "id": "2448dbf9",
   "metadata": {
    "papermill": {
     "duration": 0.004715,
     "end_time": "2022-05-30T10:17:59.032500",
     "exception": false,
     "start_time": "2022-05-30T10:17:59.027785",
     "status": "completed"
    },
    "tags": []
   },
   "source": [
    "## Step 4: Make Predictions\n",
    "Make predictions with the model's `predict` command using `X` as the data. Save the results to a variable called `predictions`."
   ]
  },
  {
   "cell_type": "code",
   "execution_count": 10,
   "id": "c3b2bc91",
   "metadata": {
    "execution": {
     "iopub.execute_input": "2022-05-30T10:17:59.043844Z",
     "iopub.status.busy": "2022-05-30T10:17:59.043297Z",
     "iopub.status.idle": "2022-05-30T10:17:59.055935Z",
     "shell.execute_reply": "2022-05-30T10:17:59.054964Z"
    },
    "papermill": {
     "duration": 0.020328,
     "end_time": "2022-05-30T10:17:59.057728",
     "exception": false,
     "start_time": "2022-05-30T10:17:59.037400",
     "status": "completed"
    },
    "tags": []
   },
   "outputs": [
    {
     "name": "stdout",
     "output_type": "stream",
     "text": [
      "[208500. 181500. 223500. ... 266500. 142125. 147500.]\n"
     ]
    },
    {
     "data": {
      "application/javascript": [
       "parent.postMessage({\"jupyterEvent\": \"custom.exercise_interaction\", \"data\": {\"outcomeType\": 1, \"valueTowardsCompletion\": 0.25, \"interactionType\": 1, \"questionType\": 2, \"questionId\": \"4_MakePredictions\", \"learnToolsVersion\": \"0.3.4\", \"failureMessage\": \"\", \"exceptionClass\": \"\", \"trace\": \"\"}}, \"*\")"
      ],
      "text/plain": [
       "<IPython.core.display.Javascript object>"
      ]
     },
     "metadata": {},
     "output_type": "display_data"
    },
    {
     "data": {
      "text/markdown": [
       "<span style=\"color:#33cc33\">Correct</span>"
      ],
      "text/plain": [
       "Correct"
      ]
     },
     "metadata": {},
     "output_type": "display_data"
    }
   ],
   "source": [
    "predictions = iowa_model.predict(X)\n",
    "print(predictions)\n",
    "\n",
    "# Check your answer\n",
    "step_4.check()"
   ]
  },
  {
   "cell_type": "code",
   "execution_count": 11,
   "id": "d51a1d89",
   "metadata": {
    "execution": {
     "iopub.execute_input": "2022-05-30T10:17:59.069474Z",
     "iopub.status.busy": "2022-05-30T10:17:59.068841Z",
     "iopub.status.idle": "2022-05-30T10:17:59.072766Z",
     "shell.execute_reply": "2022-05-30T10:17:59.072102Z"
    },
    "papermill": {
     "duration": 0.01163,
     "end_time": "2022-05-30T10:17:59.074488",
     "exception": false,
     "start_time": "2022-05-30T10:17:59.062858",
     "status": "completed"
    },
    "tags": []
   },
   "outputs": [],
   "source": [
    "# step_4.hint()\n",
    "# step_4.solution()"
   ]
  },
  {
   "cell_type": "markdown",
   "id": "59486220",
   "metadata": {
    "papermill": {
     "duration": 0.00486,
     "end_time": "2022-05-30T10:17:59.084460",
     "exception": false,
     "start_time": "2022-05-30T10:17:59.079600",
     "status": "completed"
    },
    "tags": []
   },
   "source": [
    "## Think About Your Results\n",
    "\n",
    "Use the `head` method to compare the top few predictions to the actual home values (in `y`) for those same homes. Anything surprising?\n"
   ]
  },
  {
   "cell_type": "code",
   "execution_count": 12,
   "id": "c666bee9",
   "metadata": {
    "execution": {
     "iopub.execute_input": "2022-05-30T10:17:59.097115Z",
     "iopub.status.busy": "2022-05-30T10:17:59.096207Z",
     "iopub.status.idle": "2022-05-30T10:17:59.106058Z",
     "shell.execute_reply": "2022-05-30T10:17:59.104983Z"
    },
    "papermill": {
     "duration": 0.018778,
     "end_time": "2022-05-30T10:17:59.108418",
     "exception": false,
     "start_time": "2022-05-30T10:17:59.089640",
     "status": "completed"
    },
    "tags": []
   },
   "outputs": [
    {
     "name": "stdout",
     "output_type": "stream",
     "text": [
      "Making predictions for the following 5 houses:\n",
      "   LotArea  YearBuilt  1stFlrSF  2ndFlrSF  FullBath  BedroomAbvGr  \\\n",
      "0     8450       2003       856       854         2             3   \n",
      "1     9600       1976      1262         0         2             3   \n",
      "2    11250       2001       920       866         2             3   \n",
      "3     9550       1915       961       756         1             3   \n",
      "4    14260       2000      1145      1053         2             4   \n",
      "\n",
      "   TotRmsAbvGrd  \n",
      "0             8  \n",
      "1             6  \n",
      "2             6  \n",
      "3             7  \n",
      "4             9  \n",
      "The predictions are\n",
      "[208500. 181500. 223500. 140000. 250000.]\n"
     ]
    }
   ],
   "source": [
    "# You can write code in this cell\n",
    "print(\"Making predictions for the following 5 houses:\")\n",
    "print(X.head())\n",
    "print(\"The predictions are\")\n",
    "print(iowa_model.predict(X.head()))\n"
   ]
  },
  {
   "cell_type": "markdown",
   "id": "5d43a288",
   "metadata": {
    "papermill": {
     "duration": 0.005031,
     "end_time": "2022-05-30T10:17:59.119414",
     "exception": false,
     "start_time": "2022-05-30T10:17:59.114383",
     "status": "completed"
    },
    "tags": []
   },
   "source": [
    "It's natural to ask how accurate the model's predictions will be and how you can improve that. That will be you're next step.\n",
    "\n",
    "# Keep Going\n",
    "\n",
    "You are ready for **[Model Validation](https://www.kaggle.com/dansbecker/model-validation).**\n"
   ]
  }
 ],
 "metadata": {
  "kernelspec": {
   "display_name": "Python 3",
   "language": "python",
   "name": "python3"
  },
  "language_info": {
   "codemirror_mode": {
    "name": "ipython",
    "version": 3
   },
   "file_extension": ".py",
   "mimetype": "text/x-python",
   "name": "python",
   "nbconvert_exporter": "python",
   "pygments_lexer": "ipython3",
   "version": "3.7.12"
  },
  "papermill": {
   "default_parameters": {},
   "duration": 10.569271,
   "end_time": "2022-05-30T10:17:59.744125",
   "environment_variables": {},
   "exception": null,
   "input_path": "__notebook__.ipynb",
   "output_path": "__notebook__.ipynb",
   "parameters": {},
   "start_time": "2022-05-30T10:17:49.174854",
   "version": "2.3.4"
  }
 },
 "nbformat": 4,
 "nbformat_minor": 5
}
